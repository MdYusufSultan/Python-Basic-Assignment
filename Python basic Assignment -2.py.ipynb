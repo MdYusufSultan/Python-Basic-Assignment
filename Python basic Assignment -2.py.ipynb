{
  "metadata": {
    "language_info": {
      "codemirror_mode": {
        "name": "python",
        "version": 3
      },
      "file_extension": ".py",
      "mimetype": "text/x-python",
      "name": "python",
      "nbconvert_exporter": "python",
      "pygments_lexer": "ipython3",
      "version": "3.8"
    },
    "kernelspec": {
      "name": "python",
      "display_name": "Python (Pyodide)",
      "language": "python"
    }
  },
  "nbformat_minor": 4,
  "nbformat": 4,
  "cells": [
    {
      "cell_type": "code",
      "source": "#1.What are the two values of the Boolean data type? How do you write them?\nTrue and False \nTrue = T\nFalse = F",
      "metadata": {},
      "execution_count": null,
      "outputs": []
    },
    {
      "cell_type": "code",
      "source": "#2. What are the three different types of Boolean operators?\nAND, OR and NOT",
      "metadata": {},
      "execution_count": null,
      "outputs": []
    },
    {
      "cell_type": "code",
      "source": "#3. Make a list of each Boolean operator truth tables (i.e. every possible combination of Boolean\n#values for the operator and what it evaluate )\n True and True is True.\n\nTrue and False is False.\n\nFalse and True is False.\n\nFalse and False is False.\n\nTrue or True is True.\n\nTrue or False is True.\n\nFalse or True is True.\n\nFalse or False is False.\n\nnot True is False.\n\nnot False is True.",
      "metadata": {},
      "execution_count": null,
      "outputs": []
    },
    {
      "cell_type": "code",
      "source": "#4. What are the values of the following expressions?\nprint((5>4) and (3==5))\nprint(not(5>4))\nprint((5>4) or (3==5))\nprint(not(5>4) or (3==5))\nprint((True and True) and (True==False))\nprint((not(False))or(not(True)))",
      "metadata": {
        "trusted": true
      },
      "execution_count": 8,
      "outputs": [
        {
          "name": "stdout",
          "text": "False\nFalse\nTrue\nFalse\nFalse\nTrue\n",
          "output_type": "stream"
        }
      ]
    },
    {
      "cell_type": "code",
      "source": "#5. What are the six comparison operators?\n ==, !=, <, >, <=, and >=\n",
      "metadata": {},
      "execution_count": null,
      "outputs": []
    },
    {
      "cell_type": "code",
      "source": "#6. How do you tell the difference between the equal to and assignment operators?Describe a\n#condition and when you would use one.\n== is the equal to operator that compares two values and evaluates to a Boolean, while = is the assignment operator that stores a value in a variable.\n",
      "metadata": {},
      "execution_count": null,
      "outputs": []
    },
    {
      "cell_type": "code",
      "source": "#7. Identify the three blocks in this code:\nspam = 0\nif spam == 10:\n    print('eggs') #Block 1\nif spam > 5:\n    print('bacon') #Block 2\nelse:\n    print('ham') #Block 3\n    print('spam')\n    print('spam')",
      "metadata": {
        "trusted": true
      },
      "execution_count": 9,
      "outputs": [
        {
          "name": "stdout",
          "text": "ham\nspam\nspam\n",
          "output_type": "stream"
        }
      ]
    },
    {
      "cell_type": "code",
      "source": "#8. Write code that prints Hello if 1 is stored in spam, prints Howdy if 2 is stored in spam, and prints\n#Greetings! if anything else is stored in spam.\nspam = int(input(\"Enter a no.\"))\nif spam == 1:\n    print(\"Hello\")\nelif spam == 2:\n    print(\"Howdy\")\nelse:\n    print(\"Greetings!\")\n",
      "metadata": {
        "trusted": true
      },
      "execution_count": null,
      "outputs": []
    },
    {
      "cell_type": "code",
      "source": "#9.If your programme is stuck in an endless loop, what keys you’ll press?\nIf program is stuck in endless loop we will press ctrl+c.",
      "metadata": {},
      "execution_count": null,
      "outputs": []
    },
    {
      "cell_type": "code",
      "source": "#10. How can you tell the difference between break and continue?\n# use of break\nfor i in range(10):\n    if(i==7):\n        break\n    print(i)\n    \nprint('Breaked')\n#use of  continue\nfor i in range(10):\n    if(i==7):\n        continue\n    print(i)",
      "metadata": {
        "trusted": true
      },
      "execution_count": 1,
      "outputs": [
        {
          "name": "stdout",
          "text": "0\n1\n2\n3\n4\n5\n6\nBreaked\n0\n1\n2\n3\n4\n5\n6\n8\n9\n",
          "output_type": "stream"
        }
      ]
    },
    {
      "cell_type": "code",
      "source": "#11. In a for loop, what is the difference between range(10), range(0, 10), and range(0, 10, 1)?\nfor i in range(10):\n    print(i)\nprint(\"********************\") \nfor i in range(0,10):\n    print(i)\nprint(\"******************************\")\nfor i in range(0,10,1):\n    print(i)",
      "metadata": {
        "trusted": true
      },
      "execution_count": 2,
      "outputs": [
        {
          "name": "stdout",
          "text": "0\n1\n2\n3\n4\n5\n6\n7\n8\n9\n********************\n0\n1\n2\n3\n4\n5\n6\n7\n8\n9\n******************************\n0\n1\n2\n3\n4\n5\n6\n7\n8\n9\n",
          "output_type": "stream"
        }
      ]
    },
    {
      "cell_type": "code",
      "source": "#12. Write a short program that prints the numbers 1 to 10 using a for loop. Then write an equivalent program that prints the numbers 1 to 10 using a while loop.\n#Use of For Loop\nprint(\"For Loop\")\nfor i in range(1,11):\n    print(i)\n#Use of While Loop\nprint(\"While Loop\")\na =1\nwhile a <= 10:\n    print(a)\n    a+=1",
      "metadata": {
        "trusted": true
      },
      "execution_count": 3,
      "outputs": [
        {
          "name": "stdout",
          "text": "For Loop\n1\n2\n3\n4\n5\n6\n7\n8\n9\n10\nWhile Loop\n1\n2\n3\n4\n5\n6\n7\n8\n9\n10\n",
          "output_type": "stream"
        }
      ]
    },
    {
      "cell_type": "code",
      "source": "#13. If you had a function named bacon() inside a module named spam, how would you call it after importing spam?\nThis function can be called with spam.bacon().",
      "metadata": {},
      "execution_count": null,
      "outputs": []
    }
  ]
}